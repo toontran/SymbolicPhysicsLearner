{
 "cells": [
  {
   "cell_type": "code",
   "execution_count": 1,
   "metadata": {},
   "outputs": [],
   "source": [
    "import sys\n",
    "import numpy as np\n",
    "sys.path.append(r'../')\n",
    "\n",
    "from spl_train import run_spl"
   ]
  },
  {
   "cell_type": "code",
   "execution_count": 2,
   "metadata": {},
   "outputs": [],
   "source": [
    "output_folder = 'results_spl/'  ## directory to save discovered results\n",
    "save_eqs = True                 ## if true, discovered equations are saved to \"output_folder\" dir"
   ]
  },
  {
   "cell_type": "markdown",
   "metadata": {},
   "source": [
    "### discover $\\dot x$"
   ]
  },
  {
   "cell_type": "code",
   "execution_count": 3,
   "metadata": {},
   "outputs": [
    {
     "name": "stdout",
     "output_type": "stream",
     "text": [
      "test 0\n",
      "Episode 2000/2000, current best reward 0.3465874182843574.\n",
      "1 tests complete after 1 iterations.\n",
      "best solution: -9.9644*x + 9.9644*y\n",
      "test score: 0.35033430072196314\n",
      "\n",
      "test 1\n",
      "Episode 2000/2000, current best reward 0.3465874182843574.\n",
      "2 tests complete after 1 iterations.\n",
      "best solution: -9.9644*x + 9.9644*y\n",
      "test score: 0.35033430072196314\n",
      "\n",
      "test 2\n",
      "Episode 2000/2000, current best reward 0.3465874182843574.\n",
      "3 tests complete after 1 iterations.\n",
      "best solution: -9.9644*x + 9.9644*y\n",
      "test score: 0.35033430072196314\n",
      "\n",
      "test 3\n",
      "Episode 2000/2000, current best reward 0.3465874182843574.\n",
      "4 tests complete after 1 iterations.\n",
      "best solution: -9.9644*x + 9.9644*y\n",
      "test score: 0.35033430072196314\n",
      "\n",
      "test 4\n",
      "Episode 2000/2000, current best reward 0.3465874182843574.\n",
      "5 tests complete after 1 iterations.\n",
      "best solution: -9.9644*x + 9.9644*y\n",
      "test score: 0.35033430072196314\n",
      "\n"
     ]
    }
   ],
   "source": [
    "task = 'lorenz_x'\n",
    "\n",
    "all_eqs, _, _ = run_spl(task, \n",
    "                        num_run=5, \n",
    "                        max_len=50,\n",
    "                        eta=1-1e-3, \n",
    "                        max_module_init=20,\n",
    "                        num_transplant=1, \n",
    "                        num_aug=0,\n",
    "                        transplant_step=2000, \n",
    "                        count_success=False)"
   ]
  },
  {
   "cell_type": "markdown",
   "metadata": {},
   "source": [
    "### discover $\\dot y$"
   ]
  },
  {
   "cell_type": "code",
   "execution_count": 4,
   "metadata": {},
   "outputs": [
    {
     "name": "stdout",
     "output_type": "stream",
     "text": [
      "test 0\n",
      "Episode 2000/2000, current best reward 0.12234773865311524..\n",
      "1 tests complete after 1 iterations.\n",
      "best solution: -0.0289*x**2/z - x*z + 27.6357*x - 0.859*y\n",
      "test score: 0.12189127522142579\n",
      "\n",
      "test 1\n",
      "Episode 2000/2000, current best reward 0.22837061031093064.\n",
      "2 tests complete after 1 iterations.\n",
      "best solution: -0.9937*x*z + 27.75950635*x - 0.94083516*y\n",
      "test score: 0.2412849159818393\n",
      "\n",
      "test 2\n",
      "Episode 2000/2000, current best reward 0.1954048285269264..\n",
      "3 tests complete after 1 iterations.\n",
      "best solution: -0.96332328*x*z**2/(z - 1) + 27.888098*x*z/(z - 1) - 31.58424671*x/(z - 1) - 0.0282*y*z**2/(z - 1) + 0.0282*y*z/(z - 1)\n",
      "test score: 0.21492773460523465\n",
      "\n",
      "test 3\n",
      "Episode 2000/2000, current best reward 0.22763439960525064.\n",
      "4 tests complete after 1 iterations.\n",
      "best solution: -0.99644895*x*z + 27.8996913*x - y\n",
      "test score: 0.24051716964925032\n",
      "\n",
      "test 4\n",
      "Episode 2000/2000, current best reward 0.03514541445618432..\n",
      "5 tests complete after 1 iterations.\n",
      "best solution: -0.9028*x*z + 23.17957056*x + y\n",
      "test score: 0.03368188348297352\n",
      "\n"
     ]
    }
   ],
   "source": [
    "task = 'lorenz_y'\n",
    "\n",
    "all_eqs, _, _ = run_spl(task, \n",
    "                        num_run=5, \n",
    "                        max_len=50,\n",
    "                        eta=1-1e-3, \n",
    "                        max_module_init=20,\n",
    "                        num_transplant=1, \n",
    "                        num_aug=0,\n",
    "                        transplant_step=2000, \n",
    "                        count_success=False)"
   ]
  },
  {
   "cell_type": "markdown",
   "metadata": {},
   "source": [
    "### discover $\\dot z$"
   ]
  },
  {
   "cell_type": "code",
   "execution_count": 5,
   "metadata": {},
   "outputs": [
    {
     "name": "stdout",
     "output_type": "stream",
     "text": [
      "test 0\n",
      "Episode 2000/2000, current best reward 0.19440270904532855..\n",
      "1 tests complete after 1 iterations.\n",
      "best solution: 0.9958*x*y - 2.6548*z\n",
      "test score: 0.22291462918576255\n",
      "\n",
      "test 1\n",
      "Episode 2000/2000, current best reward 0.1940141808637921.5.\n",
      "2 tests complete after 1 iterations.\n",
      "best solution: 0.99584225*x*y - 2.65486201*z\n",
      "test score: 0.2229491108406965\n",
      "\n",
      "test 2\n",
      "Episode 2000/2000, current best reward 0.19420831577527697.\n",
      "3 tests complete after 1 iterations.\n",
      "best solution: 0.9958*x*y - 2.65478516*z\n",
      "test score: 0.22291488591065853\n",
      "\n",
      "test 3\n",
      "Episode 2000/2000, current best reward 0.19185302780843247.\n",
      "4 tests complete after 1 iterations.\n",
      "best solution: x*y - 2.666*z\n",
      "test score: 0.22212920758933685\n",
      "\n",
      "test 4\n",
      "Episode 2000/2000, current best reward 0.19246723101029778..\n",
      "5 tests complete after 1 iterations.\n",
      "best solution: 0.99585299*x*y - 4.39516464882527e-5*y**2 - 2.6549*z\n",
      "test score: 0.22291536451607744\n",
      "\n"
     ]
    }
   ],
   "source": [
    "task = 'lorenz_z'\n",
    "\n",
    "all_eqs, _, _ = run_spl(task, \n",
    "                        num_run=5, \n",
    "                        max_len=50,\n",
    "                        eta=1-1e-3, \n",
    "                        max_module_init=20,\n",
    "                        num_transplant=1, \n",
    "                        num_aug=0,\n",
    "                        transplant_step=2000, \n",
    "                        count_success=False)"
   ]
  },
  {
   "cell_type": "code",
   "execution_count": null,
   "metadata": {},
   "outputs": [],
   "source": []
  }
 ],
 "metadata": {
  "kernelspec": {
   "display_name": "Monte Carlo Tree Search",
   "language": "python",
   "name": "mcts"
  },
  "language_info": {
   "codemirror_mode": {
    "name": "ipython",
    "version": 3
   },
   "file_extension": ".py",
   "mimetype": "text/x-python",
   "name": "python",
   "nbconvert_exporter": "python",
   "pygments_lexer": "ipython3",
   "version": "3.10.4"
  }
 },
 "nbformat": 4,
 "nbformat_minor": 4
}
