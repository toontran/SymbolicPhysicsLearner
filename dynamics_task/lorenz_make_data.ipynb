{
 "cells": [
  {
   "cell_type": "code",
   "execution_count": 1,
   "metadata": {},
   "outputs": [],
   "source": [
    "import numpy as np\n",
    "import pandas as pd"
   ]
  },
  {
   "cell_type": "code",
   "execution_count": 4,
   "metadata": {},
   "outputs": [],
   "source": [
    "data_folder = 'data/Lorenz_data/'  ## directory to data folder\n",
    "output_folder = 'data/' ## directory to save results"
   ]
  },
  {
   "cell_type": "code",
   "execution_count": 6,
   "metadata": {},
   "outputs": [],
   "source": [
    "tasks = ['x', 'y', 'z']\n",
    "\n",
    "for t in tasks:\n",
    "\n",
    "    lorenz_x = pd.read_csv(data_folder + 'Lorenz_' + t + '.csv')\n",
    "    x_train = lorenz_x.iloc[:6000]\n",
    "    x_test = lorenz_x.iloc[6000:]\n",
    "\n",
    "    pd.DataFrame(x_train).to_csv(output_folder + 'Lorenz_' + t + '_train.csv', index=False, header=False)\n",
    "    pd.DataFrame(x_test).to_csv(output_folder + 'Lorenz_' + t + '_test.csv', index=False, header=False)"
   ]
  },
  {
   "cell_type": "code",
   "execution_count": null,
   "metadata": {},
   "outputs": [],
   "source": []
  }
 ],
 "metadata": {
  "kernelspec": {
   "display_name": "Python 3",
   "language": "python",
   "name": "python3"
  },
  "language_info": {
   "codemirror_mode": {
    "name": "ipython",
    "version": 3
   },
   "file_extension": ".py",
   "mimetype": "text/x-python",
   "name": "python",
   "nbconvert_exporter": "python",
   "pygments_lexer": "ipython3",
   "version": "3.7.4"
  }
 },
 "nbformat": 4,
 "nbformat_minor": 4
}
